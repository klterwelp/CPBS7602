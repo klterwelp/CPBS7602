{
 "cells": [
  {
   "attachments": {
    "92529bb8-d574-495a-8bbc-d55dcf728b9a.png": {
     "image/png": "[encoded data removed]"
    }
   },
   "cell_type": "markdown",
   "id": "d3f37d12-e2d8-4406-a87e-72a6bf58ab63",
   "metadata": {
    "colab_type": "text",
    "editable": true,
    "id": "i_f5u2x9nn6I",
    "slideshow": {
     "slide_type": ""
    },
    "tags": []
   },
   "source": [
    "<style type=\"text/css\">\n",
    ".reveal h1 {\n",
    "    font-size: 2em;\n",
    "}\n",
    "</style>\n",
    "\n",
    "![cu_logo.png](attachment:92529bb8-d574-495a-8bbc-d55dcf728b9a.png)\n",
    "\n",
    "# Lecture 03, hands-on: $k$-means\n",
    "*(CPBS 7602: Introduction to Big Data in the Biomedical Sciences)*\n",
    "\n",
    "By __Milton Pividori__<br>Department of Biomedical Informatics<br>University of Colorado Anschutz Medical Campus"
   ]
  },
  {
   "cell_type": "markdown",
   "id": "4f4e015e-2149-42ab-9bdd-3b70a4d42e1f",
   "metadata": {
    "editable": true,
    "slideshow": {
     "slide_type": ""
    },
    "tags": []
   },
   "source": [
    "# Goals\n",
    "* Identify the components of an unsupervised learning problem.\n",
    "* Use sklearn for clustering analysis and familiarize yourself with the API.\n",
    "* Basic understanding of centroid-based algorithms ($k$-means) and other algorithms.\n",
    "* Clustering in practice: feature scaling and interpretability."
   ]
  },
  {
   "cell_type": "markdown",
   "id": "04048c0f-08b7-415e-a899-56dfe09d4533",
   "metadata": {
    "editable": true,
    "slideshow": {
     "slide_type": ""
    },
    "tags": []
   },
   "source": [
    "# Reading Material"
   ]
  },
  {
   "cell_type": "markdown",
   "id": "ac98041c-ab60-4c16-a6c6-b8ad883b8c0d",
   "metadata": {
    "editable": true,
    "slideshow": {
     "slide_type": ""
    },
    "tags": []
   },
   "source": [
    "Check out different resources and documentation from sklearn.\n",
    "\n",
    "* [Clustering guide](https://scikit-learn.org/1.5/modules/clustering.html) from sklearn:\n",
    "  * Introduction to **different clustering methods**.\n",
    "  * Clustering **performance evaluation**:\n",
    "    * **When we know** the ground-truth (external metrics):\n",
    "      * Based on Rand Index, such as ARI.\n",
    "      * Based on mutual information, such as NMI.\n",
    "    * **When we don't know** the ground-truth (internal metrics):\n",
    "      * Silhouette coefficient\n",
    "      * Calinski-Harabasz Index\n",
    "      * Davies-Bouldin Index"
   ]
  },
  {
   "cell_type": "markdown",
   "id": "b09506ea-61d6-4195-8f6b-b5b057ca6139",
   "metadata": {},
   "source": [
    "# Modules"
   ]
  },
  {
   "cell_type": "code",
   "execution_count": 21,
   "id": "2d5f73ff-cb25-45d2-97ba-966bb9fbd591",
   "metadata": {
    "editable": true,
    "slideshow": {
     "slide_type": ""
    },
    "tags": []
   },
   "outputs": [],
   "source": [
    "# load modules\n",
    "import sklearn\n",
    "import pandas as pd\n",
    "import numpy as np\n",
    "from matplotlib import pyplot as plt\n",
    "\n",
    "\n",
    "\n"
   ]
  },
  {
   "cell_type": "markdown",
   "id": "3c8fe7e7-17d3-4061-a839-b46a1e7ed421",
   "metadata": {
    "editable": true,
    "slideshow": {
     "slide_type": ""
    },
    "tags": []
   },
   "source": [
    "# Dataset 1"
   ]
  },
  {
   "cell_type": "markdown",
   "id": "6fca946f-2399-4a17-9621-e0def6d8749d",
   "metadata": {
    "editable": true,
    "slideshow": {
     "slide_type": ""
    },
    "tags": []
   },
   "source": [
    "Load dataset. Feature names have the format \"f[NUMBER]\". Column \"labels\", if present, are the true labels/clusters."
   ]
  },
  {
   "cell_type": "code",
   "execution_count": 27,
   "id": "b6550519-903c-42f6-82c5-359a868e88c1",
   "metadata": {
    "editable": true,
    "slideshow": {
     "slide_type": ""
    },
    "tags": []
   },
   "outputs": [],
   "source": [
    "# load dataset\n",
    "data = pd.read_csv(\n",
    "    \"https://www.dropbox.com/scl/fi/8elyky9mtq9nser82xk05/dataset01.tsv?rlkey=wlue2ejkkyen8ghdxah6yqso2&st=n9x9muq9&dl=1\",\n",
    "    sep=\"\\t\",\n",
    ")"
   ]
  },
  {
   "cell_type": "markdown",
   "id": "e7fc20a2-ce3f-49fe-8f55-25d8ef890489",
   "metadata": {
    "editable": true,
    "slideshow": {
     "slide_type": ""
    },
    "tags": []
   },
   "source": [
    "## Question 1"
   ]
  },
  {
   "cell_type": "markdown",
   "id": "89ee1421-1c3a-426f-9910-9ac0c6b0f4d7",
   "metadata": {
    "editable": true,
    "slideshow": {
     "slide_type": ""
    },
    "tags": []
   },
   "source": [
    "How many objects ($n$) and features ($d$) are in this dataset?"
   ]
  },
  {
   "cell_type": "code",
   "execution_count": 28,
   "id": "8e46da7b",
   "metadata": {},
   "outputs": [
    {
     "name": "stdout",
     "output_type": "stream",
     "text": [
      "<bound method NDFrame.describe of           f1        f2        f3        f4        f5        f6        f7  \\\n",
      "0  -0.330916 -0.411204  1.806458  3.881925  1.703582  0.184864  1.565088   \n",
      "1   0.005613 -0.003614  0.177467  2.373105  1.515870  2.381005  2.565380   \n",
      "2  -0.050342 -0.338685  2.532612  0.597579  2.660178  2.668388  0.638148   \n",
      "3   0.100639  0.693432  2.062112  2.031477  2.613821  3.768640  2.383001   \n",
      "4  -0.160311 -0.576029  2.931509  1.552599  3.799989  1.763680  2.892516   \n",
      "..       ...       ...       ...       ...       ...       ...       ...   \n",
      "95  3.052529 -4.626295  2.223467  1.885274  1.103618  0.512939  1.362580   \n",
      "96  2.868913 -5.147150  1.158416  3.727235  2.932395  3.475475  1.784163   \n",
      "97  3.843659 -3.116299  1.598951  1.263434  2.587882  1.098213  1.172591   \n",
      "98  5.574960 -2.224370  3.575653  2.486362  2.195039  0.361405  1.706062   \n",
      "99  4.142328 -3.338948  1.524521  1.507534  2.230670  0.101506  0.496185   \n",
      "\n",
      "          f8        f9       f10       f11       f12  labels  \n",
      "0   1.386821  1.942868  0.640872  1.592145  3.250613       1  \n",
      "1   2.253157  2.118793  0.798179  0.824951  1.711693       1  \n",
      "2   2.091127  2.294401  0.355153  0.134495  1.924682       1  \n",
      "3   1.690449  1.502907  1.180356  0.706819  0.027658       1  \n",
      "4   0.358567  2.479182  1.460836  3.351244  0.317846       1  \n",
      "..       ...       ...       ...       ...       ...     ...  \n",
      "95  2.360221  2.186947  1.340270  3.958024  0.027510       4  \n",
      "96  0.787259  1.437098  3.711135  1.314961  2.842358       4  \n",
      "97  3.237138  3.322207  1.600617  1.727950  2.299243       4  \n",
      "98  1.033564  3.901777  0.228531  0.589608  2.922729       4  \n",
      "99  2.669118  1.374379  2.537372  0.123748  2.600145       4  \n",
      "\n",
      "[100 rows x 13 columns]>\n"
     ]
    },
    {
     "data": {
      "text/plain": [
       "(100, 13)"
      ]
     },
     "execution_count": 28,
     "metadata": {},
     "output_type": "execute_result"
    }
   ],
   "source": [
    "print(data.describe)\n",
    "data.shape"
   ]
  },
  {
   "cell_type": "markdown",
   "id": "39c11bfd-b0d9-4582-83f1-c22c367076dd",
   "metadata": {
    "editable": true,
    "slideshow": {
     "slide_type": ""
    },
    "tags": []
   },
   "source": [
    "_Answer_: There are 100 observations (_n_) and 12 features (_d_)"
   ]
  },
  {
   "cell_type": "markdown",
   "id": "4b68ac95-8079-4bae-abc4-4364b64b326a",
   "metadata": {
    "editable": true,
    "slideshow": {
     "slide_type": ""
    },
    "tags": []
   },
   "source": [
    "## Question 2"
   ]
  },
  {
   "cell_type": "markdown",
   "id": "683e77cc-5c75-4f2d-9764-ef60a42a455f",
   "metadata": {
    "editable": true,
    "slideshow": {
     "slide_type": ""
    },
    "tags": []
   },
   "source": [
    "Does this dataset have the ground-truth or \"true\" labels/clusters?\n",
    "How many clusters are present in this ground-truth, and how many objects are in each \"true\" cluster?\n",
    "Which metrics can we use to measure performance?"
   ]
  },
  {
   "cell_type": "code",
   "execution_count": 30,
   "id": "802c35b8",
   "metadata": {},
   "outputs": [
    {
     "data": {
      "text/plain": [
       "labels\n",
       "1    25\n",
       "2    25\n",
       "3    25\n",
       "4    25\n",
       "Name: count, dtype: int64"
      ]
     },
     "execution_count": 30,
     "metadata": {},
     "output_type": "execute_result"
    }
   ],
   "source": [
    "data_labels = data.pop(\"labels\")\n",
    "\n",
    "data_labels.value_counts()"
   ]
  },
  {
   "cell_type": "markdown",
   "id": "ca9334b3-ab2c-4f68-818f-225bf59a2cf3",
   "metadata": {
    "editable": true,
    "slideshow": {
     "slide_type": ""
    },
    "tags": []
   },
   "source": [
    "_Answer_: There are labels (1-4) for the dataset in the column labels. 25 values for each label. External and internal metrics. "
   ]
  },
  {
   "cell_type": "markdown",
   "id": "070818a8-abfb-4271-8338-7383f43066f3",
   "metadata": {
    "editable": true,
    "slideshow": {
     "slide_type": ""
    },
    "tags": []
   },
   "source": [
    "## Question 3"
   ]
  },
  {
   "cell_type": "markdown",
   "id": "869ea8aa-dac1-4bf9-bdeb-e01069b404d6",
   "metadata": {
    "editable": true,
    "slideshow": {
     "slide_type": ""
    },
    "tags": []
   },
   "source": [
    "We want to understand whether there is some structure in the data among objects.\n",
    "Perform a cluster analysis using $K$-Means to answer the following questions:\n",
    "1. Are there stable clusters in the data?\n",
    "2. What are the optimal parameters of a $K$-Means model that maximize the agreement with the true labels? Use at least two different metrics to compare the true labels with the $K$-Means labels.\n",
    "3. Do clustering solutions in 1. and 2. coincide? Why or why not?"
   ]
  },
  {
   "cell_type": "code",
   "execution_count": 37,
   "id": "e0df1c2e",
   "metadata": {},
   "outputs": [
    {
     "data": {
      "text/plain": [
       "<matplotlib.legend.Legend at 0x145912ad0>"
      ]
     },
     "execution_count": 37,
     "metadata": {},
     "output_type": "execute_result"
    },
    {
     "data": {
      "image/png": "[encoded data removed]",
      "text/plain": [
       "<Figure size 640x480 with 1 Axes>"
      ]
     },
     "metadata": {},
     "output_type": "display_data"
    }
   ],
   "source": [
    "from sklearn import cluster\n",
    "model = cluster.KMeans(n_clusters=4, n_init=\"auto\")\n",
    "\n",
    "from scipy.spatial.distance import pdist\n",
    "from sklearn.metrics import adjusted_rand_score as ari\n",
    "np.random.seed(0)\n",
    "\n",
    "# get data into numpy array \n",
    "X = data.to_numpy()\n",
    "\n",
    "# elbow method\n",
    "Ks, objs = range(1, 11), []\n",
    "for k in Ks:\n",
    "    model = cluster.KMeans(n_clusters=k, n_init=\"auto\")\n",
    "    model.fit(X)\n",
    "    objs.append(-model.score(X) / X.shape[0])\n",
    "\n",
    "plt.plot(Ks, objs, \".-\", markersize=15)\n",
    "plt.scatter([4], [objs[3]], s=200, color=\"red\", label=\"Suggested K\")\n",
    "plt.xlabel(\"Number of clusters K\")\n",
    "plt.ylabel(\"Objective Function Value\")\n",
    "plt.legend()"
   ]
  },
  {
   "cell_type": "code",
   "execution_count": 40,
   "id": "bb830936",
   "metadata": {},
   "outputs": [
    {
     "data": {
      "image/png": "[encoded data removed]",
      "text/plain": [
       "<Figure size 640x480 with 1 Axes>"
      ]
     },
     "metadata": {},
     "output_type": "display_data"
    }
   ],
   "source": [
    "# consensus method\n",
    "Ks = range(2, 11)\n",
    "n_reps = 10\n",
    "cluster_labels = []\n",
    "pairwise_ari = []\n",
    "centroid_positions = {}\n",
    "stability_scores = []\n",
    "\n",
    "for k in Ks:\n",
    "    labels = []\n",
    "    centroids = []\n",
    "\n",
    "    for _ in range(n_reps):\n",
    "        model = cluster.KMeans(n_clusters=k, n_init=\"auto\")\n",
    "        labels.append(model.fit_predict(X))\n",
    "        centroids.append(model.cluster_centers_)\n",
    "\n",
    "    cluster_labels.append(labels)\n",
    "    centroid_positions[k] = centroids\n",
    "\n",
    "    # Compute pairwise adjusted Rand index (ARI) for stability\n",
    "    ari_distances = pdist(labels, metric=ari)\n",
    "    pairwise_ari.append(ari_distances)\n",
    "    stability_scores.append(ari_distances.mean())\n",
    "plt.plot(Ks, stability_scores, marker=\".\", linestyle=\"-\", markersize=15)\n",
    "plt.scatter(\n",
    "    [4],\n",
    "    [stability_scores[2]],\n",
    "    s=200,\n",
    "    color=\"red\",\n",
    "    label=\"Suggested K\",\n",
    ")\n",
    "plt.xlabel(\"Number of Clusters (K)\")\n",
    "plt.ylabel(\"Stability Score\")\n",
    "plt.legend()\n",
    "plt.show()"
   ]
  },
  {
   "cell_type": "code",
   "execution_count": null,
   "id": "8bf0af88",
   "metadata": {},
   "outputs": [],
   "source": [
    "from sklearn.metrics import normalized_mutual_info_score as nmi\n",
    "perf_nmi = {}\n",
    "perf_ari = {}\n",
    "for k in Ks: \n",
    "    model = cluster.KMeans(n_clusters=k, n_init=\"auto\")\n",
    "    part = model.fit_predict(X)\n",
    "    perf_ari[k] = ari(part, data_labels)\n",
    "    perf_nmi[k] = nmi(part, data_labels)"
   ]
  },
  {
   "cell_type": "markdown",
   "id": "45bb2a14-d504-4039-8133-178c2c3704cd",
   "metadata": {
    "editable": true,
    "slideshow": {
     "slide_type": ""
    },
    "tags": []
   },
   "source": [
    "_Answer_: 4 is the most stable solution across both the elbow and index. "
   ]
  },
  {
   "cell_type": "markdown",
   "id": "b2a190d4-4a99-4b24-9170-3964788c9284",
   "metadata": {
    "editable": true,
    "slideshow": {
     "slide_type": ""
    },
    "tags": []
   },
   "source": [
    "## Question 4"
   ]
  },
  {
   "cell_type": "markdown",
   "id": "39625fac-0132-4926-931a-96915378d1c9",
   "metadata": {},
   "source": [
    "Use at least two internal metrics to measure the quality of the clustering solutions.\n",
    "\n",
    "1. Do they match with the agreement with the true labels? Why?\n",
    "2. Do they match among them?"
   ]
  },
  {
   "cell_type": "markdown",
   "id": "9b434ef5-5061-4a9e-96d4-75c67e4d557d",
   "metadata": {
    "editable": true,
    "slideshow": {
     "slide_type": ""
    },
    "tags": []
   },
   "source": [
    "_Answer_: add answer"
   ]
  },
  {
   "cell_type": "markdown",
   "id": "d36cffab-397e-4e10-873f-286e45e676c2",
   "metadata": {
    "editable": true,
    "slideshow": {
     "slide_type": ""
    },
    "tags": []
   },
   "source": [
    "## Question 5"
   ]
  },
  {
   "cell_type": "markdown",
   "id": "25cb2962-c8a4-4d9d-b969-f95c5436dbec",
   "metadata": {
    "editable": true,
    "slideshow": {
     "slide_type": ""
    },
    "tags": []
   },
   "source": [
    "Explore the different features of the dataset and find the top 2 ones that are most helpful to capture the true labels in the data. Answer the following questions:\n",
    "\n",
    "1. What are the most important features that the algorithm used to accurately cluster the data? Are some features more important than others?\n",
    "1. How did you explore the set of features to pick the best ones?\n",
    "1. Create a 2-dimensional plot using the two top features you found. Include the true labels and centroids learned by $K$-Means using the $K$ with the most accurate solution.\n",
    "1. Related to the second question: think about some approaches that could be used to automatically learn the most important features that are driving clustering results."
   ]
  },
  {
   "cell_type": "markdown",
   "id": "836c8fd8-072c-4f22-84e3-605037526e1e",
   "metadata": {
    "editable": true,
    "slideshow": {
     "slide_type": ""
    },
    "tags": []
   },
   "source": [
    "_Answer_: add answer"
   ]
  },
  {
   "cell_type": "markdown",
   "id": "1113ed75-3093-4d3e-9bfa-ca36fb40cb6b",
   "metadata": {
    "editable": true,
    "slideshow": {
     "slide_type": ""
    },
    "tags": []
   },
   "source": [
    "## Question 6"
   ]
  },
  {
   "cell_type": "markdown",
   "id": "1d73b7e7-825a-418b-9a64-eea3bf09d8b7",
   "metadata": {
    "editable": true,
    "slideshow": {
     "slide_type": ""
    },
    "tags": []
   },
   "source": [
    "Let's assume that our dataset's objects are people and its features include measurements such as height (in meters, with values such as `1.55` or `1.95`) and year of birth (such as `1945` or `2001`). Clearly, these two features have different scales. Let's simulate that in our dataset:"
   ]
  },
  {
   "cell_type": "code",
   "execution_count": 21,
   "id": "40747d49-e7c6-4104-9a40-f358af53d08d",
   "metadata": {
    "editable": true,
    "slideshow": {
     "slide_type": ""
    },
    "tags": []
   },
   "outputs": [
    {
     "data": {
      "text/html": [
       "<div>\n",
       "<style scoped>\n",
       "    .dataframe tbody tr th:only-of-type {\n",
       "        vertical-align: middle;\n",
       "    }\n",
       "\n",
       "    .dataframe tbody tr th {\n",
       "        vertical-align: top;\n",
       "    }\n",
       "\n",
       "    .dataframe thead th {\n",
       "        text-align: right;\n",
       "    }\n",
       "</style>\n",
       "<table border=\"1\" class=\"dataframe\">\n",
       "  <thead>\n",
       "    <tr style=\"text-align: right;\">\n",
       "      <th></th>\n",
       "      <th>f1</th>\n",
       "      <th>f2</th>\n",
       "      <th>f3</th>\n",
       "      <th>f4</th>\n",
       "      <th>f5</th>\n",
       "      <th>f6</th>\n",
       "      <th>f7</th>\n",
       "      <th>f8</th>\n",
       "      <th>f9</th>\n",
       "      <th>f10</th>\n",
       "      <th>f11</th>\n",
       "      <th>f12</th>\n",
       "    </tr>\n",
       "  </thead>\n",
       "  <tbody>\n",
       "    <tr>\n",
       "      <th>count</th>\n",
       "      <td>100.000000</td>\n",
       "      <td>100.000000</td>\n",
       "      <td>100.000000</td>\n",
       "      <td>100.000000</td>\n",
       "      <td>100.000000</td>\n",
       "      <td>100.000000</td>\n",
       "      <td>100.000000</td>\n",
       "      <td>100.000000</td>\n",
       "      <td>100.000000</td>\n",
       "      <td>100.000000</td>\n",
       "      <td>100.000000</td>\n",
       "      <td>100.000000</td>\n",
       "    </tr>\n",
       "    <tr>\n",
       "      <th>mean</th>\n",
       "      <td>1.426425</td>\n",
       "      <td>1.222585</td>\n",
       "      <td>2.122137</td>\n",
       "      <td>2.034657</td>\n",
       "      <td>2.047784</td>\n",
       "      <td>1.901838</td>\n",
       "      <td>1.814660</td>\n",
       "      <td>1.972853</td>\n",
       "      <td>2.160616</td>\n",
       "      <td>1.802824</td>\n",
       "      <td>1.945195</td>\n",
       "      <td>2.067451</td>\n",
       "    </tr>\n",
       "    <tr>\n",
       "      <th>std</th>\n",
       "      <td>2.762913</td>\n",
       "      <td>3.476864</td>\n",
       "      <td>1.169307</td>\n",
       "      <td>1.143062</td>\n",
       "      <td>1.063029</td>\n",
       "      <td>1.185629</td>\n",
       "      <td>1.080893</td>\n",
       "      <td>1.161838</td>\n",
       "      <td>1.157607</td>\n",
       "      <td>1.147469</td>\n",
       "      <td>1.174753</td>\n",
       "      <td>1.174859</td>\n",
       "    </tr>\n",
       "    <tr>\n",
       "      <th>min</th>\n",
       "      <td>-4.539012</td>\n",
       "      <td>-5.190981</td>\n",
       "      <td>0.073070</td>\n",
       "      <td>0.033522</td>\n",
       "      <td>0.070147</td>\n",
       "      <td>0.012054</td>\n",
       "      <td>0.048035</td>\n",
       "      <td>0.049635</td>\n",
       "      <td>0.014697</td>\n",
       "      <td>0.088058</td>\n",
       "      <td>0.023665</td>\n",
       "      <td>0.017672</td>\n",
       "    </tr>\n",
       "    <tr>\n",
       "      <th>25%</th>\n",
       "      <td>-0.487561</td>\n",
       "      <td>-1.019238</td>\n",
       "      <td>1.166957</td>\n",
       "      <td>1.018976</td>\n",
       "      <td>1.270292</td>\n",
       "      <td>0.853160</td>\n",
       "      <td>0.789670</td>\n",
       "      <td>0.892831</td>\n",
       "      <td>1.247181</td>\n",
       "      <td>0.764301</td>\n",
       "      <td>0.825872</td>\n",
       "      <td>1.193729</td>\n",
       "    </tr>\n",
       "    <tr>\n",
       "      <th>50%</th>\n",
       "      <td>1.183115</td>\n",
       "      <td>0.806465</td>\n",
       "      <td>2.049049</td>\n",
       "      <td>2.021329</td>\n",
       "      <td>2.055746</td>\n",
       "      <td>1.907358</td>\n",
       "      <td>1.897732</td>\n",
       "      <td>2.149544</td>\n",
       "      <td>2.183210</td>\n",
       "      <td>1.701763</td>\n",
       "      <td>1.962398</td>\n",
       "      <td>2.139220</td>\n",
       "    </tr>\n",
       "    <tr>\n",
       "      <th>75%</th>\n",
       "      <td>3.929524</td>\n",
       "      <td>4.200504</td>\n",
       "      <td>3.139445</td>\n",
       "      <td>3.056537</td>\n",
       "      <td>2.837758</td>\n",
       "      <td>2.781726</td>\n",
       "      <td>2.641203</td>\n",
       "      <td>2.915272</td>\n",
       "      <td>3.147419</td>\n",
       "      <td>2.835454</td>\n",
       "      <td>2.944727</td>\n",
       "      <td>3.221551</td>\n",
       "    </tr>\n",
       "    <tr>\n",
       "      <th>max</th>\n",
       "      <td>6.508632</td>\n",
       "      <td>6.873952</td>\n",
       "      <td>3.968635</td>\n",
       "      <td>3.980859</td>\n",
       "      <td>3.954391</td>\n",
       "      <td>3.979962</td>\n",
       "      <td>3.825164</td>\n",
       "      <td>3.981973</td>\n",
       "      <td>3.979669</td>\n",
       "      <td>3.899856</td>\n",
       "      <td>3.958024</td>\n",
       "      <td>3.975148</td>\n",
       "    </tr>\n",
       "  </tbody>\n",
       "</table>\n",
       "</div>"
      ],
      "text/plain": [
       "               f1          f2          f3          f4          f5          f6  \\\n",
       "count  100.000000  100.000000  100.000000  100.000000  100.000000  100.000000   \n",
       "mean     1.426425    1.222585    2.122137    2.034657    2.047784    1.901838   \n",
       "std      2.762913    3.476864    1.169307    1.143062    1.063029    1.185629   \n",
       "min     -4.539012   -5.190981    0.073070    0.033522    0.070147    0.012054   \n",
       "25%     -0.487561   -1.019238    1.166957    1.018976    1.270292    0.853160   \n",
       "50%      1.183115    0.806465    2.049049    2.021329    2.055746    1.907358   \n",
       "75%      3.929524    4.200504    3.139445    3.056537    2.837758    2.781726   \n",
       "max      6.508632    6.873952    3.968635    3.980859    3.954391    3.979962   \n",
       "\n",
       "               f7          f8          f9         f10         f11         f12  \n",
       "count  100.000000  100.000000  100.000000  100.000000  100.000000  100.000000  \n",
       "mean     1.814660    1.972853    2.160616    1.802824    1.945195    2.067451  \n",
       "std      1.080893    1.161838    1.157607    1.147469    1.174753    1.174859  \n",
       "min      0.048035    0.049635    0.014697    0.088058    0.023665    0.017672  \n",
       "25%      0.789670    0.892831    1.247181    0.764301    0.825872    1.193729  \n",
       "50%      1.897732    2.149544    2.183210    1.701763    1.962398    2.139220  \n",
       "75%      2.641203    2.915272    3.147419    2.835454    2.944727    3.221551  \n",
       "max      3.825164    3.981973    3.979669    3.899856    3.958024    3.975148  "
      ]
     },
     "execution_count": 21,
     "metadata": {},
     "output_type": "execute_result"
    }
   ],
   "source": [
    "# let's see what are the stats across features in the original data\n",
    "data.describe()"
   ]
  },
  {
   "cell_type": "code",
   "execution_count": 22,
   "id": "ea543ce6-baab-4d18-bd3a-8ec1e50af7b6",
   "metadata": {
    "editable": true,
    "slideshow": {
     "slide_type": ""
    },
    "tags": []
   },
   "outputs": [],
   "source": [
    "data_scaled = data.copy()"
   ]
  },
  {
   "cell_type": "code",
   "execution_count": 23,
   "id": "6a985dfe-9a86-4f63-9c7b-a81190f16564",
   "metadata": {
    "editable": true,
    "slideshow": {
     "slide_type": ""
    },
    "tags": []
   },
   "outputs": [],
   "source": [
    "from sklearn.preprocessing import minmax_scale"
   ]
  },
  {
   "cell_type": "code",
   "execution_count": 24,
   "id": "2cc94e30-d17f-4043-aa72-ddcc9734d69c",
   "metadata": {
    "editable": true,
    "slideshow": {
     "slide_type": ""
    },
    "tags": []
   },
   "outputs": [],
   "source": [
    "# f6 will be height\n",
    "data_scaled[\"f6\"] = minmax_scale(data[\"f6\"], feature_range=(1.2, 2.05))\n",
    "\n",
    "# and f7 will be year of birth\n",
    "data_scaled[\"f7\"] = np.ceil(minmax_scale(data[\"f7\"], feature_range=(1945, 2001)))"
   ]
  },
  {
   "cell_type": "code",
   "execution_count": 25,
   "id": "1619fe62-cff2-4740-b1bb-215988c1396d",
   "metadata": {
    "editable": true,
    "slideshow": {
     "slide_type": ""
    },
    "tags": []
   },
   "outputs": [
    {
     "data": {
      "text/html": [
       "<div>\n",
       "<style scoped>\n",
       "    .dataframe tbody tr th:only-of-type {\n",
       "        vertical-align: middle;\n",
       "    }\n",
       "\n",
       "    .dataframe tbody tr th {\n",
       "        vertical-align: top;\n",
       "    }\n",
       "\n",
       "    .dataframe thead th {\n",
       "        text-align: right;\n",
       "    }\n",
       "</style>\n",
       "<table border=\"1\" class=\"dataframe\">\n",
       "  <thead>\n",
       "    <tr style=\"text-align: right;\">\n",
       "      <th></th>\n",
       "      <th>f1</th>\n",
       "      <th>f2</th>\n",
       "      <th>f3</th>\n",
       "      <th>f4</th>\n",
       "      <th>f5</th>\n",
       "      <th>f6</th>\n",
       "      <th>f7</th>\n",
       "      <th>f8</th>\n",
       "      <th>f9</th>\n",
       "      <th>f10</th>\n",
       "      <th>f11</th>\n",
       "      <th>f12</th>\n",
       "    </tr>\n",
       "  </thead>\n",
       "  <tbody>\n",
       "    <tr>\n",
       "      <th>count</th>\n",
       "      <td>100.000000</td>\n",
       "      <td>100.000000</td>\n",
       "      <td>100.000000</td>\n",
       "      <td>100.000000</td>\n",
       "      <td>100.000000</td>\n",
       "      <td>100.000000</td>\n",
       "      <td>100.000000</td>\n",
       "      <td>100.000000</td>\n",
       "      <td>100.000000</td>\n",
       "      <td>100.000000</td>\n",
       "      <td>100.000000</td>\n",
       "      <td>100.000000</td>\n",
       "    </tr>\n",
       "    <tr>\n",
       "      <th>mean</th>\n",
       "      <td>1.426425</td>\n",
       "      <td>1.222585</td>\n",
       "      <td>2.122137</td>\n",
       "      <td>2.034657</td>\n",
       "      <td>2.047784</td>\n",
       "      <td>1.604827</td>\n",
       "      <td>1971.710000</td>\n",
       "      <td>1.972853</td>\n",
       "      <td>2.160616</td>\n",
       "      <td>1.802824</td>\n",
       "      <td>1.945195</td>\n",
       "      <td>2.067451</td>\n",
       "    </tr>\n",
       "    <tr>\n",
       "      <th>std</th>\n",
       "      <td>2.762913</td>\n",
       "      <td>3.476864</td>\n",
       "      <td>1.169307</td>\n",
       "      <td>1.143062</td>\n",
       "      <td>1.063029</td>\n",
       "      <td>0.253984</td>\n",
       "      <td>16.010284</td>\n",
       "      <td>1.161838</td>\n",
       "      <td>1.157607</td>\n",
       "      <td>1.147469</td>\n",
       "      <td>1.174753</td>\n",
       "      <td>1.174859</td>\n",
       "    </tr>\n",
       "    <tr>\n",
       "      <th>min</th>\n",
       "      <td>-4.539012</td>\n",
       "      <td>-5.190981</td>\n",
       "      <td>0.073070</td>\n",
       "      <td>0.033522</td>\n",
       "      <td>0.070147</td>\n",
       "      <td>1.200000</td>\n",
       "      <td>1945.000000</td>\n",
       "      <td>0.049635</td>\n",
       "      <td>0.014697</td>\n",
       "      <td>0.088058</td>\n",
       "      <td>0.023665</td>\n",
       "      <td>0.017672</td>\n",
       "    </tr>\n",
       "    <tr>\n",
       "      <th>25%</th>\n",
       "      <td>-0.487561</td>\n",
       "      <td>-1.019238</td>\n",
       "      <td>1.166957</td>\n",
       "      <td>1.018976</td>\n",
       "      <td>1.270292</td>\n",
       "      <td>1.380180</td>\n",
       "      <td>1956.750000</td>\n",
       "      <td>0.892831</td>\n",
       "      <td>1.247181</td>\n",
       "      <td>0.764301</td>\n",
       "      <td>0.825872</td>\n",
       "      <td>1.193729</td>\n",
       "    </tr>\n",
       "    <tr>\n",
       "      <th>50%</th>\n",
       "      <td>1.183115</td>\n",
       "      <td>0.806465</td>\n",
       "      <td>2.049049</td>\n",
       "      <td>2.021329</td>\n",
       "      <td>2.055746</td>\n",
       "      <td>1.606009</td>\n",
       "      <td>1973.000000</td>\n",
       "      <td>2.149544</td>\n",
       "      <td>2.183210</td>\n",
       "      <td>1.701763</td>\n",
       "      <td>1.962398</td>\n",
       "      <td>2.139220</td>\n",
       "    </tr>\n",
       "    <tr>\n",
       "      <th>75%</th>\n",
       "      <td>3.929524</td>\n",
       "      <td>4.200504</td>\n",
       "      <td>3.139445</td>\n",
       "      <td>3.056537</td>\n",
       "      <td>2.837758</td>\n",
       "      <td>1.793315</td>\n",
       "      <td>1984.000000</td>\n",
       "      <td>2.915272</td>\n",
       "      <td>3.147419</td>\n",
       "      <td>2.835454</td>\n",
       "      <td>2.944727</td>\n",
       "      <td>3.221551</td>\n",
       "    </tr>\n",
       "    <tr>\n",
       "      <th>max</th>\n",
       "      <td>6.508632</td>\n",
       "      <td>6.873952</td>\n",
       "      <td>3.968635</td>\n",
       "      <td>3.980859</td>\n",
       "      <td>3.954391</td>\n",
       "      <td>2.050000</td>\n",
       "      <td>2001.000000</td>\n",
       "      <td>3.981973</td>\n",
       "      <td>3.979669</td>\n",
       "      <td>3.899856</td>\n",
       "      <td>3.958024</td>\n",
       "      <td>3.975148</td>\n",
       "    </tr>\n",
       "  </tbody>\n",
       "</table>\n",
       "</div>"
      ],
      "text/plain": [
       "               f1          f2          f3          f4          f5          f6  \\\n",
       "count  100.000000  100.000000  100.000000  100.000000  100.000000  100.000000   \n",
       "mean     1.426425    1.222585    2.122137    2.034657    2.047784    1.604827   \n",
       "std      2.762913    3.476864    1.169307    1.143062    1.063029    0.253984   \n",
       "min     -4.539012   -5.190981    0.073070    0.033522    0.070147    1.200000   \n",
       "25%     -0.487561   -1.019238    1.166957    1.018976    1.270292    1.380180   \n",
       "50%      1.183115    0.806465    2.049049    2.021329    2.055746    1.606009   \n",
       "75%      3.929524    4.200504    3.139445    3.056537    2.837758    1.793315   \n",
       "max      6.508632    6.873952    3.968635    3.980859    3.954391    2.050000   \n",
       "\n",
       "                f7          f8          f9         f10         f11         f12  \n",
       "count   100.000000  100.000000  100.000000  100.000000  100.000000  100.000000  \n",
       "mean   1971.710000    1.972853    2.160616    1.802824    1.945195    2.067451  \n",
       "std      16.010284    1.161838    1.157607    1.147469    1.174753    1.174859  \n",
       "min    1945.000000    0.049635    0.014697    0.088058    0.023665    0.017672  \n",
       "25%    1956.750000    0.892831    1.247181    0.764301    0.825872    1.193729  \n",
       "50%    1973.000000    2.149544    2.183210    1.701763    1.962398    2.139220  \n",
       "75%    1984.000000    2.915272    3.147419    2.835454    2.944727    3.221551  \n",
       "max    2001.000000    3.981973    3.979669    3.899856    3.958024    3.975148  "
      ]
     },
     "execution_count": 25,
     "metadata": {},
     "output_type": "execute_result"
    }
   ],
   "source": [
    "# let's verify the stats/ranges of our new features\n",
    "data_scaled.describe()"
   ]
  },
  {
   "cell_type": "markdown",
   "id": "3fc4bece-683c-4837-a9b5-c3f01d66ba47",
   "metadata": {
    "editable": true,
    "slideshow": {
     "slide_type": ""
    },
    "tags": []
   },
   "source": [
    "It can be seen that the mean, standard deviation, minimum, and maximum values are very different now when we compare the features.\n",
    "\n",
    "1. How does our clustering approach perform in this new dataset?\n",
    "2. Why is this happening? How can we fix it? *Tip:* take a look at the [preprocessing functions in sklearn](https://scikit-learn.org/1.5/modules/preprocessing.html). Try the [StandardScaler](https://scikit-learn.org/1.5/modules/generated/sklearn.preprocessing.StandardScaler.html#sklearn.preprocessing.StandardScaler)."
   ]
  },
  {
   "cell_type": "markdown",
   "id": "9ead506a-96d4-4439-b320-60dcfd2a0e78",
   "metadata": {
    "editable": true,
    "slideshow": {
     "slide_type": ""
    },
    "tags": []
   },
   "source": [
    "_Answer_: add answer"
   ]
  },
  {
   "cell_type": "markdown",
   "id": "bb8fc369-d145-4de8-a1b8-a0ecd8453337",
   "metadata": {
    "editable": true,
    "slideshow": {
     "slide_type": ""
    },
    "tags": []
   },
   "source": [
    "# Dataset 2"
   ]
  },
  {
   "cell_type": "code",
   "execution_count": 41,
   "id": "4d25cc6a-beb8-4e1f-83b7-d1373831f62d",
   "metadata": {
    "editable": true,
    "slideshow": {
     "slide_type": ""
    },
    "tags": []
   },
   "outputs": [],
   "source": [
    "# load dataset\n",
    "data = pd.read_csv(\n",
    "    \"https://www.dropbox.com/scl/fi/mfllucl6fu2awou5hg90p/dataset02.tsv?rlkey=vcbr61pr5159qo4ynh49vpq4o&st=gec1pm6r&dl=1\",\n",
    "    sep=\"\\t\",\n",
    ")"
   ]
  },
  {
   "cell_type": "markdown",
   "id": "c0f3e2b8-9598-4897-b595-3f9527578c37",
   "metadata": {
    "editable": true,
    "slideshow": {
     "slide_type": ""
    },
    "tags": []
   },
   "source": [
    "## Previous Questions 1-5"
   ]
  },
  {
   "cell_type": "markdown",
   "id": "e3414ec7-da99-4c84-b720-098331ecfa73",
   "metadata": {
    "editable": true,
    "slideshow": {
     "slide_type": ""
    },
    "tags": []
   },
   "source": [
    "Answer the same questions for Dataset 1."
   ]
  },
  {
   "cell_type": "markdown",
   "id": "c64c0850-578b-42bc-919e-72f543fd2c4b",
   "metadata": {
    "editable": true,
    "slideshow": {
     "slide_type": ""
    },
    "tags": []
   },
   "source": [
    "### Question 1"
   ]
  },
  {
   "cell_type": "markdown",
   "id": "9016a5e9-f123-4e24-9665-96dd5001e1ea",
   "metadata": {
    "editable": true,
    "slideshow": {
     "slide_type": ""
    },
    "tags": []
   },
   "source": [
    "_Answer_: add answer"
   ]
  },
  {
   "cell_type": "markdown",
   "id": "116406f0-e3c8-4ef1-847e-851ab4e2406c",
   "metadata": {
    "editable": true,
    "slideshow": {
     "slide_type": ""
    },
    "tags": []
   },
   "source": [
    "### Question 2"
   ]
  },
  {
   "cell_type": "markdown",
   "id": "43d7c0ba-ee5d-4802-91ce-146ef1c524e0",
   "metadata": {
    "editable": true,
    "slideshow": {
     "slide_type": ""
    },
    "tags": []
   },
   "source": [
    "_Answer_: add answer"
   ]
  },
  {
   "cell_type": "markdown",
   "id": "937a25fe-469a-418f-98b0-582c143aa64f",
   "metadata": {
    "editable": true,
    "slideshow": {
     "slide_type": ""
    },
    "tags": []
   },
   "source": [
    "### Question 3"
   ]
  },
  {
   "cell_type": "markdown",
   "id": "f5f49028-2349-41f0-97df-e4034d217505",
   "metadata": {
    "editable": true,
    "slideshow": {
     "slide_type": ""
    },
    "tags": []
   },
   "source": [
    "_Answer_: add answer"
   ]
  },
  {
   "cell_type": "markdown",
   "id": "cdbe9672-e786-4764-a0c4-4aeb4f9263dc",
   "metadata": {
    "editable": true,
    "slideshow": {
     "slide_type": ""
    },
    "tags": []
   },
   "source": [
    "### Question 4"
   ]
  },
  {
   "cell_type": "markdown",
   "id": "ab82e3d5-b751-4b4e-8f35-20dcacf99b3c",
   "metadata": {
    "editable": true,
    "slideshow": {
     "slide_type": ""
    },
    "tags": []
   },
   "source": [
    "_Answer_: add answer"
   ]
  },
  {
   "cell_type": "markdown",
   "id": "5018e29c-4bb4-4fe2-9e64-2ded53dcb6e1",
   "metadata": {
    "editable": true,
    "slideshow": {
     "slide_type": ""
    },
    "tags": []
   },
   "source": [
    "### Question 5"
   ]
  },
  {
   "cell_type": "markdown",
   "id": "ac01e24a-4a67-47c4-937d-6c1c89ea20e3",
   "metadata": {
    "editable": true,
    "slideshow": {
     "slide_type": ""
    },
    "tags": []
   },
   "source": [
    "_Answer_: add answer"
   ]
  },
  {
   "cell_type": "markdown",
   "id": "7bed8c65-b07b-4f5e-82eb-470521cdd713",
   "metadata": {
    "editable": true,
    "slideshow": {
     "slide_type": ""
    },
    "tags": []
   },
   "source": [
    "# Dataset 3"
   ]
  },
  {
   "cell_type": "code",
   "execution_count": 51,
   "id": "f4de2686-a61c-457c-a61e-57976b8b2adf",
   "metadata": {
    "editable": true,
    "slideshow": {
     "slide_type": ""
    },
    "tags": []
   },
   "outputs": [],
   "source": [
    "# load dataset\n",
    "data = pd.read_csv(\n",
    "    \"https://www.dropbox.com/scl/fi/2wtandc0jofhw0i4ivh1v/dataset03.tsv?rlkey=jtv6zbpaw0c5v70kd73uj2ccs&st=mkv2zlzs&dl=1\",\n",
    "    sep=\"\\t\",\n",
    ")"
   ]
  },
  {
   "cell_type": "markdown",
   "id": "6b069f31-36fc-412c-b2f5-f7f155aae6ac",
   "metadata": {
    "editable": true,
    "slideshow": {
     "slide_type": ""
    },
    "tags": []
   },
   "source": [
    "## Previous Questions 1-5"
   ]
  },
  {
   "cell_type": "markdown",
   "id": "73bc839e-5df1-434c-87a3-7af373d422ba",
   "metadata": {
    "editable": true,
    "slideshow": {
     "slide_type": ""
    },
    "tags": []
   },
   "source": [
    "Answer the same questions for Dataset 2.\n",
    "\n",
    "**In addition**, answer Question 7 below for this dataset."
   ]
  },
  {
   "cell_type": "markdown",
   "id": "7819142d-0cf0-4c25-8584-b59385ba802a",
   "metadata": {
    "editable": true,
    "slideshow": {
     "slide_type": ""
    },
    "tags": []
   },
   "source": [
    "### Question 1"
   ]
  },
  {
   "cell_type": "markdown",
   "id": "31fafdea-36ec-48da-9065-9fa9dced4c1e",
   "metadata": {
    "editable": true,
    "slideshow": {
     "slide_type": ""
    },
    "tags": []
   },
   "source": [
    "_Answer_: add answer"
   ]
  },
  {
   "cell_type": "markdown",
   "id": "bf3a0b9f-0830-4012-a31d-bb74d06a5e20",
   "metadata": {
    "editable": true,
    "slideshow": {
     "slide_type": ""
    },
    "tags": []
   },
   "source": [
    "### Question 2"
   ]
  },
  {
   "cell_type": "markdown",
   "id": "6c1422b1-8ba8-44e4-860d-46da48d5bf07",
   "metadata": {
    "editable": true,
    "slideshow": {
     "slide_type": ""
    },
    "tags": []
   },
   "source": [
    "_Answer_: add answer"
   ]
  },
  {
   "cell_type": "markdown",
   "id": "69d388ee-5e03-4d15-a5fe-5cce1a9d8438",
   "metadata": {
    "editable": true,
    "slideshow": {
     "slide_type": ""
    },
    "tags": []
   },
   "source": [
    "### Question 3"
   ]
  },
  {
   "cell_type": "markdown",
   "id": "3d9bb2f1-36d2-4412-ac6c-46d29ffb1420",
   "metadata": {
    "editable": true,
    "slideshow": {
     "slide_type": ""
    },
    "tags": []
   },
   "source": [
    "_Answer_: add answer"
   ]
  },
  {
   "cell_type": "markdown",
   "id": "cc074b6a-bc7f-48fb-8bae-b0bb14fc5364",
   "metadata": {
    "editable": true,
    "slideshow": {
     "slide_type": ""
    },
    "tags": []
   },
   "source": [
    "### Question 4"
   ]
  },
  {
   "cell_type": "markdown",
   "id": "a69d7757-88dc-4f87-aae5-303e6e0811f6",
   "metadata": {
    "editable": true,
    "slideshow": {
     "slide_type": ""
    },
    "tags": []
   },
   "source": [
    "_Answer_: add answer"
   ]
  },
  {
   "cell_type": "markdown",
   "id": "66457f85-52b6-43ea-b014-7180cc784712",
   "metadata": {
    "editable": true,
    "slideshow": {
     "slide_type": ""
    },
    "tags": []
   },
   "source": [
    "### Question 5"
   ]
  },
  {
   "cell_type": "markdown",
   "id": "3572652b-fe39-4f11-8718-89c7fbd7258b",
   "metadata": {
    "editable": true,
    "slideshow": {
     "slide_type": ""
    },
    "tags": []
   },
   "source": [
    "_Answer_: add answer"
   ]
  },
  {
   "cell_type": "markdown",
   "id": "26e83ea1-a0e0-4601-9659-188ffb9e3da9",
   "metadata": {
    "editable": true,
    "slideshow": {
     "slide_type": ""
    },
    "tags": []
   },
   "source": [
    "## Question 7"
   ]
  },
  {
   "cell_type": "markdown",
   "id": "e5af7f19-46af-4a5f-9073-f3b173a4a41b",
   "metadata": {
    "editable": true,
    "slideshow": {
     "slide_type": ""
    },
    "tags": []
   },
   "source": [
    "As you probably guessed after answering Question 5 and making the plot, this dataset has a weird structure: it has two concentric rings.\n",
    "It was generated with function [`make_circles`](https://scikit-learn.org/dev/modules/generated/sklearn.datasets.make_circles.html) from sklearn.\n",
    "These complex datasets are used to test different clustering and classification algorithms with different degrees of difficulty.\n",
    "\n",
    "So here you have the **first question**:\n",
    "1. $K$-Means cannot capture this structure. Why not?\n",
    "\n",
    "Now, let's try to answer Questions 3-5 but using different clustering algorithms and explore different parameters.\n",
    "Some suggestions are:\n",
    "* [Spectral Clustering](https://scikit-learn.org/1.5/modules/clustering.html#spectral-clustering):\n",
    "  * It computes a low-dimensional embedding of the input data where the complex data structures (such as the rings) are more apparent. Then it applies $K$-Means on this embedding.\n",
    "  * A suggestion on how to run it:\n",
    "\n",
    "    ```python\n",
    "        cluster.SpectralClustering(\n",
    "            n_clusters=k, affinity=\"nearest_neighbors\", n_init=1\n",
    "        )\n",
    "    ```\n",
    "\n",
    "    You can try different parameters such as `affinity` or `gamma`.\n",
    "* [DBSCAN](https://scikit-learn.org/1.5/modules/clustering.html#dbscan):\n",
    "  * This algorithm is very different from $K$-Means. It is not centroid-based, but density-based. Some analyses, such as Consensus Index, are not directly applicable here.\n",
    "  * The most important parameter is `eps`: make sure you use values around `0.30` for this dataset. One way to generate values in an interval is to use `np.linspace(0.20, 0.50, 100)`\n",
    "  * A suggestion on how to run it:\n",
    "\n",
    "    ```python\n",
    "        model = cluster.DBSCAN(eps=k)\n",
    "    ```\n",
    "\n",
    "* [Hierarchical clustering](https://scikit-learn.org/1.5/modules/clustering.html#hierarchical-clustering):\n",
    "  * This is a classic algorithm, very popular.\n",
    "  * In addition to returning a single, flat partition, hierarchical clustering can produce a hierarchy of partitions, where clusters are subsequently divided into smaller ones. This hierarchical structure might be very useful in particular problems where we expect this data structure.\n",
    "  * The main parameter, in addition to the number of clusters, is the `linkage` criteria that determines how to merge clusters.\n",
    "\n",
    "Then also answer these **other questions**:\n",
    "\n",
    "2. Were you successful with a different clustering algorithm? Which one?\n",
    "3. Why did the new algorithm work?"
   ]
  },
  {
   "cell_type": "markdown",
   "id": "4f63d692-4742-4b2a-bf66-c61b9ef8e75d",
   "metadata": {
    "editable": true,
    "slideshow": {
     "slide_type": ""
    },
    "tags": []
   },
   "source": [
    "_Answer_: add answer"
   ]
  },
  {
   "cell_type": "markdown",
   "id": "393eb05e-dc70-48cd-ba9a-190a2a0fa355",
   "metadata": {
    "editable": true,
    "slideshow": {
     "slide_type": ""
    },
    "tags": []
   },
   "source": [
    "### Spectral Clustering"
   ]
  },
  {
   "cell_type": "markdown",
   "id": "04cccfcd-8ef7-4a1a-8db4-4afd452cf02b",
   "metadata": {
    "editable": true,
    "slideshow": {
     "slide_type": ""
    },
    "tags": []
   },
   "source": [
    "#### Question 3"
   ]
  },
  {
   "cell_type": "markdown",
   "id": "dfbb711d-a09e-44e2-a303-330e710c9ce5",
   "metadata": {
    "editable": true,
    "slideshow": {
     "slide_type": ""
    },
    "tags": []
   },
   "source": [
    "#### Question 4"
   ]
  },
  {
   "cell_type": "markdown",
   "id": "3ec41f82-47ab-4d7a-acd7-d97efdfa6ad7",
   "metadata": {
    "editable": true,
    "slideshow": {
     "slide_type": ""
    },
    "tags": []
   },
   "source": [
    "#### Question 5"
   ]
  },
  {
   "cell_type": "markdown",
   "id": "0a49b172-e784-4f72-b490-c6354fd4588c",
   "metadata": {
    "editable": true,
    "slideshow": {
     "slide_type": ""
    },
    "tags": []
   },
   "source": [
    "### DBSCAN"
   ]
  },
  {
   "cell_type": "markdown",
   "id": "b671a6e7-2117-4a77-82d5-34bc0bf67a3d",
   "metadata": {
    "editable": true,
    "slideshow": {
     "slide_type": ""
    },
    "tags": []
   },
   "source": [
    "#### Question 3"
   ]
  },
  {
   "cell_type": "markdown",
   "id": "87b20ccd-33cc-41d3-83fd-51a439a5111a",
   "metadata": {
    "editable": true,
    "slideshow": {
     "slide_type": ""
    },
    "tags": []
   },
   "source": [
    "#### Question 4"
   ]
  },
  {
   "cell_type": "markdown",
   "id": "456ef8d4-8309-4177-9ad3-8b9b29551c1e",
   "metadata": {
    "editable": true,
    "slideshow": {
     "slide_type": ""
    },
    "tags": []
   },
   "source": [
    "#### Question 5"
   ]
  },
  {
   "cell_type": "markdown",
   "id": "8d5f0e75-e9dd-4a3f-a243-e170dac8eca8",
   "metadata": {
    "editable": true,
    "slideshow": {
     "slide_type": ""
    },
    "tags": []
   },
   "source": [
    "### Hierarchical Clustering"
   ]
  },
  {
   "cell_type": "markdown",
   "id": "97c983be-62fa-4671-94ea-d962e750eb27",
   "metadata": {
    "editable": true,
    "slideshow": {
     "slide_type": ""
    },
    "tags": []
   },
   "source": [
    "#### Question 3"
   ]
  },
  {
   "cell_type": "markdown",
   "id": "fe980385-76e0-4987-9424-9b57bb00a870",
   "metadata": {
    "editable": true,
    "slideshow": {
     "slide_type": ""
    },
    "tags": []
   },
   "source": [
    "#### Question 4"
   ]
  },
  {
   "cell_type": "markdown",
   "id": "39816781-215b-4e3b-a117-a6c2589acee3",
   "metadata": {
    "editable": true,
    "slideshow": {
     "slide_type": ""
    },
    "tags": []
   },
   "source": [
    "#### Question 5"
   ]
  }
 ],
 "metadata": {
  "jupytext": {
   "cell_metadata_filter": "all,-execution,-papermill,-trusted",
   "notebook_metadata_filter": "-jupytext.text_representation.jupytext_version"
  },
  "kernelspec": {
   "display_name": "cpbs7602_pandas",
   "language": "python",
   "name": "python3"
  },
  "language_info": {
   "codemirror_mode": {
    "name": "ipython",
    "version": 3
   },
   "file_extension": ".py",
   "mimetype": "text/x-python",
   "name": "python",
   "nbconvert_exporter": "python",
   "pygments_lexer": "ipython3",
   "version": "3.13.0"
  }
 },
 "nbformat": 4,
 "nbformat_minor": 5
}
