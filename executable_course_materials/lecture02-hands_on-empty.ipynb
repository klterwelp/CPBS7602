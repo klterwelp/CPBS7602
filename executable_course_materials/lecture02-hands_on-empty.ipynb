{
 "cells": [
  {
   "cell_type": "markdown",
   "id": "6dd30665-0053-4cc6-bd74-a4c572111671",
   "metadata": {
    "colab_type": "text",
    "editable": true,
    "id": "i_f5u2x9nn6I",
    "slideshow": {
     "slide_type": ""
    },
    "tags": []
   },
   "source": [
    "<style type=\"text/css\">\n",
    ".reveal h1 {\n",
    "    font-size: 2em;\n",
    "}\n",
    "</style>\n",
    "\n",
    "<left><img width=25% src=\"img/cu_logo.svg\"></left>\n",
    "\n",
    "# Lecture 02, hands-on: Building a classifier\n",
    "*(CPBS 7602: Intro to Big Data in the Biomedical Sciences)*\n",
    "\n",
    "By __Milton Pividori__<br>Department of Biomedical Informatics<br>University of Colorado Anschutz Medical Campus"
   ]
  },
  {
   "cell_type": "markdown",
   "id": "4f4e015e-2149-42ab-9bdd-3b70a4d42e1f",
   "metadata": {
    "editable": true,
    "slideshow": {
     "slide_type": ""
    },
    "tags": []
   },
   "source": [
    "# Goals\n",
    "* Identifying the components of a supervised learning problem.\n",
    "* Basic understanding of tree-based algorithms.\n",
    "* Basic overview of overfitting."
   ]
  },
  {
   "cell_type": "markdown",
   "id": "4e282a71-ca2c-49e7-b91c-b56d9cd63b60",
   "metadata": {
    "editable": true,
    "slideshow": {
     "slide_type": ""
    },
    "tags": []
   },
   "source": [
    "# Review: Regression vs. Classification\n",
    "\n",
    "Consider a training dataset $\\mathcal{D} = \\{(x^{(1)}, y^{(1)}), (x^{(2)}, y^{(2)}), \\ldots, (x^{(n)}, y^{(n)})\\}$.\n",
    "\n",
    "We distinguish between supervised learning problems depending on the targets $y^{(i)}$:\n",
    "\n",
    "1. __Regression__: The target space is continuous: $\\mathcal{Y} \\subseteq \\mathbb{R}$.\n",
    "2. __Classification__: The target space is discrete: $\\mathcal{Y} = \\{y_1, y_2, \\ldots y_K\\}$. <br>\n",
    "   <span style='color: gray'>Each of the $K$ discrete values corresponds to a *class* that we want to predict</span>"
   ]
  },
  {
   "cell_type": "markdown",
   "id": "41586c84-816f-4802-821d-5b53001b46a7",
   "metadata": {
    "editable": true,
    "slideshow": {
     "slide_type": ""
    },
    "tags": []
   },
   "source": [
    "## Binary Classification\n",
    "\n",
    "An important special case of classification is when the number of classes $K=2$.\n",
    "\n",
    "In this case, we have an instance of a *binary classification* problem."
   ]
  },
  {
   "cell_type": "markdown",
   "id": "a1e9bc99-b539-46a2-b730-8fadca1c36a6",
   "metadata": {
    "editable": true,
    "slideshow": {
     "slide_type": ""
    },
    "tags": []
   },
   "source": [
    "# The dataset"
   ]
  },
  {
   "cell_type": "markdown",
   "id": "cdba4255-5ac8-494a-ba89-7c5e43b14b4e",
   "metadata": {
    "editable": true,
    "slideshow": {
     "slide_type": ""
    },
    "tags": []
   },
   "source": [
    "## An Example: Classifying Iris Flowers\n",
    "\n",
    "Our running example for classification problems will be the __iris flower dataset__.\n",
    "\n",
    "This is a classical dataset originally published by [R. A. Fisher](https://en.wikipedia.org/wiki/Ronald_Fisher) in 1936.\n",
    "<!-- Nowadays, it's often used for demonstrating machine learning algorithms. -->\n",
    "\n",
    "<center><img width=70% src=\"img/iris.png\"/> <br>\n",
    "<small style='color: gray;'>Image source: <a href=\"https://www.datacamp.com/tutorial/machine-learning-in-r\">Machine Learning in R for Beginners</a></small></center>"
   ]
  },
  {
   "cell_type": "markdown",
   "id": "9703a952-0af4-4181-aaa5-d053e9bd9296",
   "metadata": {
    "editable": true,
    "slideshow": {
     "slide_type": ""
    },
    "tags": []
   },
   "source": [
    "Let's import the dataset from `sklearn`."
   ]
  },
  {
   "cell_type": "code",
   "execution_count": 1,
   "id": "0d8532ea-fbe0-498d-8638-0f2556e13c11",
   "metadata": {
    "editable": true,
    "slideshow": {
     "slide_type": "-"
    },
    "tags": []
   },
   "outputs": [],
   "source": [
    "import warnings\n",
    "\n",
    "warnings.filterwarnings(\"ignore\")\n",
    "from sklearn import datasets\n",
    "\n",
    "iris = datasets.load_iris(as_frame=True)"
   ]
  },
  {
   "cell_type": "code",
   "execution_count": 2,
   "id": "f3670040-ead2-4e90-b044-8a0eb8842ea4",
   "metadata": {
    "editable": true,
    "slideshow": {
     "slide_type": ""
    },
    "tags": []
   },
   "outputs": [],
   "source": [
    "iris_X, iris_y = iris.data, iris.target"
   ]
  },
  {
   "cell_type": "markdown",
   "id": "cfcc36fc-7d3d-4ced-908c-4766419c8197",
   "metadata": {
    "editable": true,
    "slideshow": {
     "slide_type": ""
    },
    "tags": []
   },
   "source": [
    "## Exercise 1: Analyze the dataset\n",
    "\n",
    "Look at the variables with the Iris flowers data above and answer the **questions** below.\n",
    "\n",
    "*Tip:* running `print(iris.DESCR)` will give you a description of the dataset."
   ]
  },
  {
   "cell_type": "code",
   "execution_count": 3,
   "id": "063bb411",
   "metadata": {},
   "outputs": [
    {
     "name": "stdout",
     "output_type": "stream",
     "text": [
      ".. _iris_dataset:\n",
      "\n",
      "Iris plants dataset\n",
      "--------------------\n",
      "\n",
      "**Data Set Characteristics:**\n",
      "\n",
      ":Number of Instances: 150 (50 in each of three classes)\n",
      ":Number of Attributes: 4 numeric, predictive attributes and the class\n",
      ":Attribute Information:\n",
      "    - sepal length in cm\n",
      "    - sepal width in cm\n",
      "    - petal length in cm\n",
      "    - petal width in cm\n",
      "    - class:\n",
      "            - Iris-Setosa\n",
      "            - Iris-Versicolour\n",
      "            - Iris-Virginica\n",
      "\n",
      ":Summary Statistics:\n",
      "\n",
      "============== ==== ==== ======= ===== ====================\n",
      "                Min  Max   Mean    SD   Class Correlation\n",
      "============== ==== ==== ======= ===== ====================\n",
      "sepal length:   4.3  7.9   5.84   0.83    0.7826\n",
      "sepal width:    2.0  4.4   3.05   0.43   -0.4194\n",
      "petal length:   1.0  6.9   3.76   1.76    0.9490  (high!)\n",
      "petal width:    0.1  2.5   1.20   0.76    0.9565  (high!)\n",
      "============== ==== ==== ======= ===== ====================\n",
      "\n",
      ":Missing Attribute Values: None\n",
      ":Class Distribution: 33.3% for each of 3 classes.\n",
      ":Creator: R.A. Fisher\n",
      ":Donor: Michael Marshall (MARSHALL%PLU@io.arc.nasa.gov)\n",
      ":Date: July, 1988\n",
      "\n",
      "The famous Iris database, first used by Sir R.A. Fisher. The dataset is taken\n",
      "from Fisher's paper. Note that it's the same as in R, but not as in the UCI\n",
      "Machine Learning Repository, which has two wrong data points.\n",
      "\n",
      "This is perhaps the best known database to be found in the\n",
      "pattern recognition literature.  Fisher's paper is a classic in the field and\n",
      "is referenced frequently to this day.  (See Duda & Hart, for example.)  The\n",
      "data set contains 3 classes of 50 instances each, where each class refers to a\n",
      "type of iris plant.  One class is linearly separable from the other 2; the\n",
      "latter are NOT linearly separable from each other.\n",
      "\n",
      ".. dropdown:: References\n",
      "\n",
      "  - Fisher, R.A. \"The use of multiple measurements in taxonomic problems\"\n",
      "    Annual Eugenics, 7, Part II, 179-188 (1936); also in \"Contributions to\n",
      "    Mathematical Statistics\" (John Wiley, NY, 1950).\n",
      "  - Duda, R.O., & Hart, P.E. (1973) Pattern Classification and Scene Analysis.\n",
      "    (Q327.D83) John Wiley & Sons.  ISBN 0-471-22361-1.  See page 218.\n",
      "  - Dasarathy, B.V. (1980) \"Nosing Around the Neighborhood: A New System\n",
      "    Structure and Classification Rule for Recognition in Partially Exposed\n",
      "    Environments\".  IEEE Transactions on Pattern Analysis and Machine\n",
      "    Intelligence, Vol. PAMI-2, No. 1, 67-71.\n",
      "  - Gates, G.W. (1972) \"The Reduced Nearest Neighbor Rule\".  IEEE Transactions\n",
      "    on Information Theory, May 1972, 431-433.\n",
      "  - See also: 1988 MLC Proceedings, 54-64.  Cheeseman et al\"s AUTOCLASS II\n",
      "    conceptual clustering system finds 3 classes in the data.\n",
      "  - Many, many more ...\n",
      "\n"
     ]
    }
   ],
   "source": [
    "print(iris.DESCR)"
   ]
  },
  {
   "cell_type": "markdown",
   "id": "f87e02d2-f5c3-4374-8f67-fd9c6e1516a8",
   "metadata": {},
   "source": [
    "### Question 1"
   ]
  },
  {
   "cell_type": "markdown",
   "id": "7a6ca14e-386d-4aca-a3cc-82255a0ae1f1",
   "metadata": {},
   "source": [
    "What's is the value of $n$ for this dataset? What is $n$?"
   ]
  },
  {
   "cell_type": "markdown",
   "id": "d1b7b4b8-3ae1-4d6e-a415-7a4faffdd2d5",
   "metadata": {
    "editable": true,
    "slideshow": {
     "slide_type": ""
    },
    "tags": []
   },
   "source": [
    "_Answer_: 150 instances (or samples)"
   ]
  },
  {
   "cell_type": "markdown",
   "id": "c23c4e1d-cf1c-474a-8bf8-b4d59bc54bda",
   "metadata": {},
   "source": [
    "### Question 2"
   ]
  },
  {
   "cell_type": "markdown",
   "id": "c9654c56-f46a-4625-b02d-700d5bf90357",
   "metadata": {
    "editable": true,
    "slideshow": {
     "slide_type": ""
    },
    "tags": []
   },
   "source": [
    "What's the value of $d$? What is $d$?"
   ]
  },
  {
   "cell_type": "markdown",
   "id": "3f96e8f8-f23c-4ab8-9cf2-05883b945411",
   "metadata": {
    "editable": true,
    "slideshow": {
     "slide_type": ""
    },
    "tags": []
   },
   "source": [
    "_Answer_: d represents the number of predictive features of Y. There are 4 numeric predictive variables. "
   ]
  },
  {
   "cell_type": "markdown",
   "id": "4223be97-ed5d-4953-b600-6e349ba7f979",
   "metadata": {},
   "source": [
    "### Question 3"
   ]
  },
  {
   "cell_type": "markdown",
   "id": "ae3b0e59-8189-4e19-b6d0-e5c9d0229649",
   "metadata": {
    "editable": true,
    "slideshow": {
     "slide_type": ""
    },
    "tags": []
   },
   "source": [
    "1. What variable has the inputs? What variable has the targets?\n",
    "1. For $i=3$, answer:\n",
    "   1. what does $x^{(i)}$ look like?\n",
    "   2. and $y^{(i)}$?"
   ]
  },
  {
   "cell_type": "code",
   "execution_count": 20,
   "id": "e8f503fb",
   "metadata": {},
   "outputs": [
    {
     "name": "stdout",
     "output_type": "stream",
     "text": [
      "   sepal length (cm)  sepal width (cm)  petal length (cm)  petal width (cm)\n",
      "0                5.1               3.5                1.4               0.2\n",
      "1                4.9               3.0                1.4               0.2\n",
      "2                4.7               3.2                1.3               0.2\n",
      "0    0\n",
      "1    0\n",
      "2    0\n",
      "Name: target, dtype: int64\n"
     ]
    }
   ],
   "source": [
    "print(iris.data[:3])\n",
    "print(iris.target[:3])\n"
   ]
  },
  {
   "cell_type": "markdown",
   "id": "0027a4bf-0e9c-44e8-b004-8cf1b3c0e47c",
   "metadata": {
    "editable": true,
    "slideshow": {
     "slide_type": ""
    },
    "tags": []
   },
   "source": [
    "_Answer_: \n",
    "1. Inputs have four variables = sepal length, sepal width, petal length, petal width. Targets are in class variable. \n",
    "2. x(i) looks like the above table for the four predictive columns (from `iris.data`). y(i) looks to all be 0 and is a variable that contains three values (0-2). "
   ]
  },
  {
   "cell_type": "markdown",
   "id": "0cd1b3b9-38dd-4af4-8986-065b0620df79",
   "metadata": {},
   "source": [
    "### Question 4"
   ]
  },
  {
   "cell_type": "markdown",
   "id": "beb26bd1-ee0d-4562-9aa3-62b36d92c140",
   "metadata": {
    "editable": true,
    "slideshow": {
     "slide_type": ""
    },
    "tags": []
   },
   "source": [
    "Given the type of the targets, what kind of supervised learning approach should we use?\n",
    "1. Is this a binary classificiation problem?"
   ]
  },
  {
   "cell_type": "markdown",
   "id": "41b647e3-aa62-4202-ab21-80744ba4a2b1",
   "metadata": {
    "editable": true,
    "slideshow": {
     "slide_type": ""
    },
    "tags": []
   },
   "source": [
    "_Answer_: This is not a binary classification problem because there are more than two classes (there are three classes of flowers). We could use a multi-class classification ML approach. "
   ]
  },
  {
   "cell_type": "markdown",
   "id": "e2218237-ac4e-4e8a-9ada-8271a6a7ad31",
   "metadata": {
    "editable": true,
    "slideshow": {
     "slide_type": ""
    },
    "tags": []
   },
   "source": [
    "# The learning algorithm"
   ]
  },
  {
   "cell_type": "markdown",
   "id": "2da9a9dd-a6f2-4392-9e80-39e20853f38f",
   "metadata": {},
   "source": [
    "## Decision Trees"
   ]
  },
  {
   "cell_type": "markdown",
   "id": "45081b73-f7dd-421c-99f5-bc8d4e529716",
   "metadata": {
    "editable": true,
    "slideshow": {
     "slide_type": ""
    },
    "tags": []
   },
   "source": [
    "### The UCI Diabetes Dataset\n",
    "\n",
    "To explain what is a decision tree, we are going to use the UCI diabetes dataset that we have been working with earlier.\n",
    "\n",
    "Let's start by loading this dataset."
   ]
  },
  {
   "cell_type": "code",
   "execution_count": 25,
   "id": "9d5f8426-f496-434c-8eb0-57fb63858aed",
   "metadata": {
    "editable": true,
    "slideshow": {
     "slide_type": ""
    },
    "tags": []
   },
   "outputs": [
    {
     "name": "stdout",
     "output_type": "stream",
     "text": [
      ".. _diabetes_dataset:\n",
      "\n",
      "Diabetes dataset\n",
      "----------------\n",
      "\n",
      "Ten baseline variables, age, sex, body mass index, average blood\n",
      "pressure, and six blood serum measurements were obtained for each of n =\n",
      "442 diabetes patients, as well as the response of interest, a\n",
      "quantitative measure of disease progression one year after baseline.\n",
      "\n",
      "**Data Set Characteristics:**\n",
      "\n",
      ":Number of Instances: 442\n",
      "\n",
      ":Number of Attributes: First 10 columns are numeric predictive values\n",
      "\n",
      ":Target: Column 11 is a quantitative measure of disease progression one year after baseline\n",
      "\n",
      ":Attribute Information:\n",
      "    - age     age in years\n",
      "    - sex\n",
      "    - bmi     body mass index\n",
      "    - bp      average blood pressure\n",
      "    - s1      tc, total serum cholesterol\n",
      "    - s2      ldl, low-density lipoproteins\n",
      "    - s3      hdl, high-density lipoproteins\n",
      "    - s4      tch, total cholesterol / HDL\n",
      "    - s5      ltg, possibly log of serum triglycerides level\n",
      "    - s6      glu, blood sugar level\n",
      "\n",
      "Note: Each of these 10 feature variables have been mean centered and scaled by the standard deviation times the square root of `n_samples` (i.e. the sum of squares of each column totals 1).\n",
      "\n",
      "Source URL:\n",
      "https://www4.stat.ncsu.edu/~boos/var.select/diabetes.html\n",
      "\n",
      "For more information see:\n",
      "Bradley Efron, Trevor Hastie, Iain Johnstone and Robert Tibshirani (2004) \"Least Angle Regression,\" Annals of Statistics (with discussion), 407-499.\n",
      "(https://web.stanford.edu/~hastie/Papers/LARS/LeastAngle_2002.pdf)\n",
      "\n"
     ]
    }
   ],
   "source": [
    "%matplotlib inline\n",
    "import matplotlib.pyplot as plt\n",
    "\n",
    "plt.rcParams[\"figure.figsize\"] = [12, 4]\n",
    "from sklearn import datasets\n",
    "\n",
    "# Load the diabetes dataset\n",
    "diabetes = datasets.load_diabetes(as_frame=True, scaled=False)\n",
    "print(diabetes.DESCR)"
   ]
  },
  {
   "cell_type": "markdown",
   "id": "e18c8331-04fb-4bee-94a8-d3ff9981e6f6",
   "metadata": {
    "editable": true,
    "slideshow": {
     "slide_type": ""
    },
    "tags": []
   },
   "source": [
    "We can also look at the data directly."
   ]
  },
  {
   "cell_type": "code",
   "execution_count": 22,
   "id": "73564204-2c85-49e3-b548-eb32ceef418a",
   "metadata": {
    "editable": true,
    "slideshow": {
     "slide_type": ""
    },
    "tags": []
   },
   "outputs": [
    {
     "data": {
      "text/html": [
       "<div>\n",
       "<style scoped>\n",
       "    .dataframe tbody tr th:only-of-type {\n",
       "        vertical-align: middle;\n",
       "    }\n",
       "\n",
       "    .dataframe tbody tr th {\n",
       "        vertical-align: top;\n",
       "    }\n",
       "\n",
       "    .dataframe thead th {\n",
       "        text-align: right;\n",
       "    }\n",
       "</style>\n",
       "<table border=\"1\" class=\"dataframe\">\n",
       "  <thead>\n",
       "    <tr style=\"text-align: right;\">\n",
       "      <th></th>\n",
       "      <th>age</th>\n",
       "      <th>sex</th>\n",
       "      <th>bmi</th>\n",
       "      <th>bp</th>\n",
       "      <th>s1</th>\n",
       "      <th>s2</th>\n",
       "      <th>s3</th>\n",
       "      <th>s4</th>\n",
       "      <th>s5</th>\n",
       "      <th>s6</th>\n",
       "    </tr>\n",
       "  </thead>\n",
       "  <tbody>\n",
       "    <tr>\n",
       "      <th>0</th>\n",
       "      <td>59.0</td>\n",
       "      <td>2.0</td>\n",
       "      <td>32.1</td>\n",
       "      <td>101.0</td>\n",
       "      <td>157.0</td>\n",
       "      <td>93.2</td>\n",
       "      <td>38.0</td>\n",
       "      <td>4.0</td>\n",
       "      <td>4.8598</td>\n",
       "      <td>87.0</td>\n",
       "    </tr>\n",
       "    <tr>\n",
       "      <th>1</th>\n",
       "      <td>48.0</td>\n",
       "      <td>1.0</td>\n",
       "      <td>21.6</td>\n",
       "      <td>87.0</td>\n",
       "      <td>183.0</td>\n",
       "      <td>103.2</td>\n",
       "      <td>70.0</td>\n",
       "      <td>3.0</td>\n",
       "      <td>3.8918</td>\n",
       "      <td>69.0</td>\n",
       "    </tr>\n",
       "    <tr>\n",
       "      <th>2</th>\n",
       "      <td>72.0</td>\n",
       "      <td>2.0</td>\n",
       "      <td>30.5</td>\n",
       "      <td>93.0</td>\n",
       "      <td>156.0</td>\n",
       "      <td>93.6</td>\n",
       "      <td>41.0</td>\n",
       "      <td>4.0</td>\n",
       "      <td>4.6728</td>\n",
       "      <td>85.0</td>\n",
       "    </tr>\n",
       "    <tr>\n",
       "      <th>3</th>\n",
       "      <td>24.0</td>\n",
       "      <td>1.0</td>\n",
       "      <td>25.3</td>\n",
       "      <td>84.0</td>\n",
       "      <td>198.0</td>\n",
       "      <td>131.4</td>\n",
       "      <td>40.0</td>\n",
       "      <td>5.0</td>\n",
       "      <td>4.8903</td>\n",
       "      <td>89.0</td>\n",
       "    </tr>\n",
       "    <tr>\n",
       "      <th>4</th>\n",
       "      <td>50.0</td>\n",
       "      <td>1.0</td>\n",
       "      <td>23.0</td>\n",
       "      <td>101.0</td>\n",
       "      <td>192.0</td>\n",
       "      <td>125.4</td>\n",
       "      <td>52.0</td>\n",
       "      <td>4.0</td>\n",
       "      <td>4.2905</td>\n",
       "      <td>80.0</td>\n",
       "    </tr>\n",
       "  </tbody>\n",
       "</table>\n",
       "</div>"
      ],
      "text/plain": [
       "    age  sex   bmi     bp     s1     s2    s3   s4      s5    s6\n",
       "0  59.0  2.0  32.1  101.0  157.0   93.2  38.0  4.0  4.8598  87.0\n",
       "1  48.0  1.0  21.6   87.0  183.0  103.2  70.0  3.0  3.8918  69.0\n",
       "2  72.0  2.0  30.5   93.0  156.0   93.6  41.0  4.0  4.6728  85.0\n",
       "3  24.0  1.0  25.3   84.0  198.0  131.4  40.0  5.0  4.8903  89.0\n",
       "4  50.0  1.0  23.0  101.0  192.0  125.4  52.0  4.0  4.2905  80.0"
      ]
     },
     "execution_count": 22,
     "metadata": {},
     "output_type": "execute_result"
    }
   ],
   "source": [
    "# Load the diabetes dataset\n",
    "diabetes_X, diabetes_y = diabetes.data, diabetes.target\n",
    "\n",
    "# create a binary risk feature\n",
    "diabetes_y_risk = diabetes_y.copy()\n",
    "diabetes_y_risk[:] = 0\n",
    "diabetes_y_risk[diabetes_y > 150] = 1\n",
    "\n",
    "# Print part of the dataset\n",
    "diabetes_X.head()"
   ]
  },
  {
   "cell_type": "markdown",
   "id": "64e40276-aa6a-4532-a8aa-92d970997083",
   "metadata": {
    "editable": true,
    "slideshow": {
     "slide_type": ""
    },
    "tags": []
   },
   "source": [
    "### Decision Trees: Intuition\n",
    "\n",
    "Decision trees are machine learning models that mimic how a human would approach this problem.\n",
    "1. We start by picking a feature (e.g., age)\n",
    "2. Then we *branch* on the feature based on its value (e.g, age > 65?)\n",
    "3. We select and branch on one or more features (e.g., is it a man?)\n",
    "4. Then we return an output that depends on all the features we've seen (e.g., a man over 65)"
   ]
  },
  {
   "cell_type": "markdown",
   "id": "35c91db0-223a-42c4-854a-d851a69332d1",
   "metadata": {
    "editable": true,
    "slideshow": {
     "slide_type": ""
    },
    "tags": []
   },
   "source": [
    "### Decision Trees: Example\n",
    "\n",
    "Let's first see an example on the diabetes dataset."
   ]
  },
  {
   "cell_type": "markdown",
   "id": "bce1799c-14be-49d8-84c4-8f4b6df46edd",
   "metadata": {
    "editable": true,
    "slideshow": {
     "slide_type": ""
    },
    "tags": []
   },
   "source": [
    "We will train a decision tree using its implementation in `sklearn`."
   ]
  },
  {
   "cell_type": "code",
   "execution_count": 23,
   "id": "e8cb982f-8777-4dfe-9817-cd76865f5d3e",
   "metadata": {
    "editable": true,
    "slideshow": {
     "slide_type": ""
    },
    "tags": []
   },
   "outputs": [
    {
     "name": "stdout",
     "output_type": "stream",
     "text": [
      "\n"
     ]
    },
    {
     "data": {
      "image/png": "[encoded data removed]",
      "text/plain": [
       "<Figure size 1200x400 with 1 Axes>"
      ]
     },
     "metadata": {},
     "output_type": "display_data"
    }
   ],
   "source": [
    "from sklearn.tree import DecisionTreeClassifier, plot_tree\n",
    "\n",
    "# create and fit the model\n",
    "clf = DecisionTreeClassifier(max_depth=2)\n",
    "clf.fit(diabetes_X.iloc[:, :4], diabetes_y_risk)\n",
    "\n",
    "# visualize the model\n",
    "plot_tree(clf, feature_names=diabetes_X.columns[:4], impurity=False, filled=True)\n",
    "print(\"\")"
   ]
  },
  {
   "cell_type": "markdown",
   "id": "d7aaf01e-0ac7-4383-8f6f-4ed0532450bf",
   "metadata": {
    "editable": true,
    "slideshow": {
     "slide_type": ""
    },
    "tags": []
   },
   "source": [
    "### Decision Rules\n",
    "\n",
    "Let's now define a decision tree a bit more formally.\n",
    "* A decision rule $r : \\mathcal{X} \\to \\{\\text{true}, \\text{false}\\}$ is a partition of the feature space into two disjoint regions, e.g.:\n",
    "$$ r(x) = \\begin{cases}\\text{true} & \\text{if } x_\\text{bmi} \\leq 27.25 \\\\ \\text{false} & \\text{if } x_\\text{bmi} > 27.25 \\end{cases} $$\n",
    "* Normally, a rule applies to only one feature or attribute $x_j$ of $x$.\n",
    "* If $x_j$ is continuous, the rule normally separates inputs $x_j$ into disjoint intervals $-\\infty, c], (c, \\infty)$."
   ]
  },
  {
   "cell_type": "markdown",
   "id": "e0dfa379-af47-4313-a4cb-cc2ed0c0ef30",
   "metadata": {
    "editable": true,
    "slideshow": {
     "slide_type": ""
    },
    "tags": []
   },
   "source": [
    "### Decision Trees: Definition\n",
    "\n",
    "A decision tree is a (usually binary) tree, where:\n",
    "* Each internal node $n$ corresponds to a rule $r_n$\n",
    "* The $j$-th edge out of $n$ is associated with a rule value $v_j$, and we follow the $j$-th edge if $r_n(x)=v_j$\n",
    "* Each leaf node $l$ contains a prediction $f(x)$\n",
    "* Given input $x$, we start at the root, apply its rule, follow the edge that corresponds to the outcome, and repeat recursively."
   ]
  },
  {
   "cell_type": "markdown",
   "id": "a663b560-0515-4710-ae96-221175675253",
   "metadata": {
    "editable": true,
    "slideshow": {
     "slide_type": ""
    },
    "tags": []
   },
   "source": [
    "## Exercise 2: Implement a Decision Tree classifier"
   ]
  },
  {
   "cell_type": "markdown",
   "id": "75712ad9-7ee9-4684-a829-2ebae9974df0",
   "metadata": {
    "editable": true,
    "slideshow": {
     "slide_type": ""
    },
    "tags": []
   },
   "source": [
    "Now, let's train a Decision Tree on the Iris flowers dataset!\n",
    "**IMPORTANT**: use only the first two features: sepal length and sepal width.\n",
    "\n",
    "But first, let's visualize our data:"
   ]
  },
  {
   "cell_type": "code",
   "execution_count": 26,
   "id": "d5bced46-5fa7-4402-8566-26ef6ba01ab6",
   "metadata": {
    "editable": true,
    "slideshow": {
     "slide_type": "subslide"
    },
    "tags": []
   },
   "outputs": [
    {
     "data": {
      "text/plain": [
       "<matplotlib.legend.Legend at 0x14ca34550>"
      ]
     },
     "execution_count": 26,
     "metadata": {},
     "output_type": "execute_result"
    },
    {
     "data": {
      "image/png": "[encoded data removed]",
      "text/plain": [
       "<Figure size 1200x400 with 1 Axes>"
      ]
     },
     "metadata": {},
     "output_type": "display_data"
    }
   ],
   "source": [
    "# Plot also the training points\n",
    "p1 = plt.scatter(\n",
    "    iris_X.iloc[:, 0], iris_X.iloc[:, 1], c=iris_y, s=50, cmap=plt.cm.Paired\n",
    ")\n",
    "plt.xlabel(\"Sepal Length\")\n",
    "plt.ylabel(\"Sepal Width\")\n",
    "plt.legend(\n",
    "    handles=p1.legend_elements()[0],\n",
    "    labels=[\"Setosa\", \"Versicolour\", \"Virginica\"],\n",
    "    loc=\"lower right\",\n",
    ")"
   ]
  },
  {
   "cell_type": "markdown",
   "id": "b1d578e9-7084-4fb2-a907-5d04ef469735",
   "metadata": {
    "editable": true,
    "slideshow": {
     "slide_type": ""
    },
    "tags": []
   },
   "source": [
    "Ok. Now, let's implement and train our Decision Tree classifier using the Iris flowers dataset.\n",
    "Remember to check the documentation of the [`DecisionTreeClassifier`](https://scikit-learn.org/stable/modules/generated/sklearn.tree.DecisionTreeClassifier.html)."
   ]
  },
  {
   "cell_type": "code",
   "execution_count": 35,
   "id": "a8efe59b-8346-4070-af44-22ad2bf19b16",
   "metadata": {
    "editable": true,
    "slideshow": {
     "slide_type": ""
    },
    "tags": []
   },
   "outputs": [
    {
     "name": "stdout",
     "output_type": "stream",
     "text": [
      "\n",
      "0.7763909774436091\n",
      "0.7733333333333334\n"
     ]
    },
    {
     "data": {
      "image/png": "[encoded data removed]",
      "text/plain": [
       "<Figure size 1200x400 with 1 Axes>"
      ]
     },
     "metadata": {},
     "output_type": "display_data"
    }
   ],
   "source": [
    "# sepal length and sepal width only\n",
    "iris_X_small = iris_X.iloc[:, 0:2]\n",
    "iris_X_small.head()\n",
    "\n",
    "# create and fit the model\n",
    "clf = DecisionTreeClassifier(max_depth=2)\n",
    "clf.fit(iris_X_small, iris_y)\n",
    "\n",
    "# visualize the model\n",
    "plot_tree(clf, feature_names=iris_X_small.columns[:2], impurity=False, filled=True)\n",
    "print(\"\")\n",
    "\n",
    "# how is the model performing? \n",
    "from sklearn.metrics import balanced_accuracy_score\n",
    "from sklearn.metrics import f1_score\n",
    "\n",
    "y_pred = clf.predict(iris_X_small)\n",
    "bal = balanced_accuracy_score(iris_y, y_pred)\n",
    "f1 = f1_score(iris_y, y_pred, average='weighted')\n",
    "print(f1)\n",
    "print(bal)"
   ]
  },
  {
   "cell_type": "markdown",
   "id": "125ab8c6-39e2-4d31-90a2-513a1e0a4f42",
   "metadata": {
    "editable": true,
    "slideshow": {
     "slide_type": ""
    },
    "tags": []
   },
   "source": [
    "**Question:** Use your trained model to predict the same data used for training. How is it performing?\n",
    "\n",
    "*Tip:* You can compare the model prediction with the true labels using the [accuracy](https://scikit-learn.org/stable/modules/generated/sklearn.metrics.accuracy_score.html#sklearn.metrics.accuracy_score), although [there are many metrics](https://scikit-learn.org/stable/modules/model_evaluation.html#classification-metrics)."
   ]
  },
  {
   "cell_type": "markdown",
   "id": "322dc9b9",
   "metadata": {},
   "source": [
    "Balanced accuracy of 0.773 and a F1 score of 0.776. I guess that's fairly good? My ML algorithm was getting balanced accuracies of >0.85. "
   ]
  },
  {
   "cell_type": "markdown",
   "id": "41d542b5-a415-4d24-91e8-277c7fc2bc4e",
   "metadata": {
    "editable": true,
    "slideshow": {
     "slide_type": ""
    },
    "tags": []
   },
   "source": [
    "## Exercise 3: Understand decision boundaries"
   ]
  },
  {
   "cell_type": "markdown",
   "id": "d861ec92-90d3-437b-acb7-40b71d08478e",
   "metadata": {
    "editable": true,
    "slideshow": {
     "slide_type": ""
    },
    "tags": []
   },
   "source": [
    "Use the [`DecisionBoundaryDisplay`](https://scikit-learn.org/dev/modules/generated/sklearn.inspection.DecisionBoundaryDisplay.html) class from scikit-learn to analyze how the classifier you built performed."
   ]
  },
  {
   "cell_type": "code",
   "execution_count": null,
   "id": "f56d6ff7-380a-4f8c-98e1-7a36db973343",
   "metadata": {
    "editable": true,
    "slideshow": {
     "slide_type": ""
    },
    "tags": []
   },
   "outputs": [
    {
     "ename": "InvalidIndexError",
     "evalue": "(slice(None, None, None), 0)",
     "output_type": "error",
     "traceback": [
      "\u001b[0;31m---------------------------------------------------------------------------\u001b[0m",
      "\u001b[0;31mKeyError\u001b[0m                                  Traceback (most recent call last)",
      "File \u001b[0;32m~/miniconda3/envs/cpbs7602_pandas/lib/python3.13/site-packages/pandas/core/indexes/base.py:3805\u001b[0m, in \u001b[0;36mIndex.get_loc\u001b[0;34m(self, key)\u001b[0m\n\u001b[1;32m   3804\u001b[0m \u001b[38;5;28;01mtry\u001b[39;00m:\n\u001b[0;32m-> 3805\u001b[0m     \u001b[38;5;28;01mreturn\u001b[39;00m \u001b[38;5;28;43mself\u001b[39;49m\u001b[38;5;241;43m.\u001b[39;49m\u001b[43m_engine\u001b[49m\u001b[38;5;241;43m.\u001b[39;49m\u001b[43mget_loc\u001b[49m\u001b[43m(\u001b[49m\u001b[43mcasted_key\u001b[49m\u001b[43m)\u001b[49m\n\u001b[1;32m   3806\u001b[0m \u001b[38;5;28;01mexcept\u001b[39;00m \u001b[38;5;167;01mKeyError\u001b[39;00m \u001b[38;5;28;01mas\u001b[39;00m err:\n",
      "File \u001b[0;32mindex.pyx:167\u001b[0m, in \u001b[0;36mpandas._libs.index.IndexEngine.get_loc\u001b[0;34m()\u001b[0m\n",
      "File \u001b[0;32mindex.pyx:196\u001b[0m, in \u001b[0;36mpandas._libs.index.IndexEngine.get_loc\u001b[0;34m()\u001b[0m\n",
      "File \u001b[0;32mpandas/_libs/hashtable_class_helper.pxi:7081\u001b[0m, in \u001b[0;36mpandas._libs.hashtable.PyObjectHashTable.get_item\u001b[0;34m()\u001b[0m\n",
      "File \u001b[0;32mpandas/_libs/hashtable_class_helper.pxi:7089\u001b[0m, in \u001b[0;36mpandas._libs.hashtable.PyObjectHashTable.get_item\u001b[0;34m()\u001b[0m\n",
      "\u001b[0;31mKeyError\u001b[0m: (slice(None, None, None), 0)",
      "\nDuring handling of the above exception, another exception occurred:\n",
      "\u001b[0;31mInvalidIndexError\u001b[0m                         Traceback (most recent call last)",
      "Cell \u001b[0;32mIn[42], line 7\u001b[0m\n\u001b[1;32m      3\u001b[0m \u001b[38;5;28;01mimport\u001b[39;00m \u001b[38;5;21;01mnumpy\u001b[39;00m \u001b[38;5;28;01mas\u001b[39;00m \u001b[38;5;21;01mnp\u001b[39;00m\n\u001b[1;32m      4\u001b[0m \u001b[38;5;28;01mfrom\u001b[39;00m \u001b[38;5;21;01msklearn\u001b[39;00m\u001b[38;5;21;01m.\u001b[39;00m\u001b[38;5;21;01minspection\u001b[39;00m \u001b[38;5;28;01mimport\u001b[39;00m DecisionBoundaryDisplay\n\u001b[1;32m      6\u001b[0m feature_1, feature_2 \u001b[38;5;241m=\u001b[39m np\u001b[38;5;241m.\u001b[39mmeshgrid(\n\u001b[0;32m----> 7\u001b[0m     np\u001b[38;5;241m.\u001b[39mlinspace(\u001b[43miris\u001b[49m\u001b[38;5;241;43m.\u001b[39;49m\u001b[43mdata\u001b[49m\u001b[43m[\u001b[49m\u001b[43m:\u001b[49m\u001b[43m,\u001b[49m\u001b[43m \u001b[49m\u001b[38;5;241;43m0\u001b[39;49m\u001b[43m]\u001b[49m\u001b[38;5;241m.\u001b[39mmin(), iris\u001b[38;5;241m.\u001b[39mdata[:, \u001b[38;5;241m0\u001b[39m]\u001b[38;5;241m.\u001b[39mmax()),\n\u001b[1;32m      8\u001b[0m     np\u001b[38;5;241m.\u001b[39mlinspace(iris\u001b[38;5;241m.\u001b[39mdata[:, \u001b[38;5;241m1\u001b[39m]\u001b[38;5;241m.\u001b[39mmin(), iris\u001b[38;5;241m.\u001b[39mdata[:, \u001b[38;5;241m1\u001b[39m]\u001b[38;5;241m.\u001b[39mmax())\n\u001b[1;32m      9\u001b[0m )\n\u001b[1;32m     10\u001b[0m grid \u001b[38;5;241m=\u001b[39m np\u001b[38;5;241m.\u001b[39mvstack([feature_1\u001b[38;5;241m.\u001b[39mravel(), feature_2\u001b[38;5;241m.\u001b[39mravel()])\u001b[38;5;241m.\u001b[39mT\n\u001b[1;32m     11\u001b[0m y_pred \u001b[38;5;241m=\u001b[39m np\u001b[38;5;241m.\u001b[39mreshape(tree\u001b[38;5;241m.\u001b[39mpredict(grid), feature_1\u001b[38;5;241m.\u001b[39mshape)\n",
      "File \u001b[0;32m~/miniconda3/envs/cpbs7602_pandas/lib/python3.13/site-packages/pandas/core/frame.py:4102\u001b[0m, in \u001b[0;36mDataFrame.__getitem__\u001b[0;34m(self, key)\u001b[0m\n\u001b[1;32m   4100\u001b[0m \u001b[38;5;28;01mif\u001b[39;00m \u001b[38;5;28mself\u001b[39m\u001b[38;5;241m.\u001b[39mcolumns\u001b[38;5;241m.\u001b[39mnlevels \u001b[38;5;241m>\u001b[39m \u001b[38;5;241m1\u001b[39m:\n\u001b[1;32m   4101\u001b[0m     \u001b[38;5;28;01mreturn\u001b[39;00m \u001b[38;5;28mself\u001b[39m\u001b[38;5;241m.\u001b[39m_getitem_multilevel(key)\n\u001b[0;32m-> 4102\u001b[0m indexer \u001b[38;5;241m=\u001b[39m \u001b[38;5;28;43mself\u001b[39;49m\u001b[38;5;241;43m.\u001b[39;49m\u001b[43mcolumns\u001b[49m\u001b[38;5;241;43m.\u001b[39;49m\u001b[43mget_loc\u001b[49m\u001b[43m(\u001b[49m\u001b[43mkey\u001b[49m\u001b[43m)\u001b[49m\n\u001b[1;32m   4103\u001b[0m \u001b[38;5;28;01mif\u001b[39;00m is_integer(indexer):\n\u001b[1;32m   4104\u001b[0m     indexer \u001b[38;5;241m=\u001b[39m [indexer]\n",
      "File \u001b[0;32m~/miniconda3/envs/cpbs7602_pandas/lib/python3.13/site-packages/pandas/core/indexes/base.py:3811\u001b[0m, in \u001b[0;36mIndex.get_loc\u001b[0;34m(self, key)\u001b[0m\n\u001b[1;32m   3806\u001b[0m \u001b[38;5;28;01mexcept\u001b[39;00m \u001b[38;5;167;01mKeyError\u001b[39;00m \u001b[38;5;28;01mas\u001b[39;00m err:\n\u001b[1;32m   3807\u001b[0m     \u001b[38;5;28;01mif\u001b[39;00m \u001b[38;5;28misinstance\u001b[39m(casted_key, \u001b[38;5;28mslice\u001b[39m) \u001b[38;5;129;01mor\u001b[39;00m (\n\u001b[1;32m   3808\u001b[0m         \u001b[38;5;28misinstance\u001b[39m(casted_key, abc\u001b[38;5;241m.\u001b[39mIterable)\n\u001b[1;32m   3809\u001b[0m         \u001b[38;5;129;01mand\u001b[39;00m \u001b[38;5;28many\u001b[39m(\u001b[38;5;28misinstance\u001b[39m(x, \u001b[38;5;28mslice\u001b[39m) \u001b[38;5;28;01mfor\u001b[39;00m x \u001b[38;5;129;01min\u001b[39;00m casted_key)\n\u001b[1;32m   3810\u001b[0m     ):\n\u001b[0;32m-> 3811\u001b[0m         \u001b[38;5;28;01mraise\u001b[39;00m InvalidIndexError(key)\n\u001b[1;32m   3812\u001b[0m     \u001b[38;5;28;01mraise\u001b[39;00m \u001b[38;5;167;01mKeyError\u001b[39;00m(key) \u001b[38;5;28;01mfrom\u001b[39;00m \u001b[38;5;21;01merr\u001b[39;00m\n\u001b[1;32m   3813\u001b[0m \u001b[38;5;28;01mexcept\u001b[39;00m \u001b[38;5;167;01mTypeError\u001b[39;00m:\n\u001b[1;32m   3814\u001b[0m     \u001b[38;5;66;03m# If we have a listlike key, _check_indexing_error will raise\u001b[39;00m\n\u001b[1;32m   3815\u001b[0m     \u001b[38;5;66;03m#  InvalidIndexError. Otherwise we fall through and re-raise\u001b[39;00m\n\u001b[1;32m   3816\u001b[0m     \u001b[38;5;66;03m#  the TypeError.\u001b[39;00m\n",
      "\u001b[0;31mInvalidIndexError\u001b[0m: (slice(None, None, None), 0)"
     ]
    }
   ],
   "source": [
    "# import library\n",
    "import matplotlib.pyplot as plt\n",
    "import numpy as np\n",
    "from sklearn.inspection import DecisionBoundaryDisplay\n"
   ]
  },
  {
   "cell_type": "markdown",
   "id": "5367335c-c732-40b2-8e8a-298a433bf7da",
   "metadata": {
    "editable": true,
    "slideshow": {
     "slide_type": ""
    },
    "tags": []
   },
   "source": [
    "**Question:** do you see a problem with the decision boundaries above? Avoid searching in the Internet and instead explain it with your own words."
   ]
  },
  {
   "cell_type": "markdown",
   "id": "eda02489-17ba-4d90-84a6-c801c0e10fc2",
   "metadata": {
    "editable": true,
    "slideshow": {
     "slide_type": ""
    },
    "tags": []
   },
   "source": [
    "_Answer_: add answer"
   ]
  },
  {
   "cell_type": "markdown",
   "id": "203bb2ff-6f5e-4211-86ab-f4a90baefe60",
   "metadata": {
    "editable": true,
    "slideshow": {
     "slide_type": ""
    },
    "tags": []
   },
   "source": [
    "## Exercise 4: Understand decision rules"
   ]
  },
  {
   "cell_type": "markdown",
   "id": "51ed2c72-50d0-41f0-9ade-70e74180ec69",
   "metadata": {
    "editable": true,
    "slideshow": {
     "slide_type": ""
    },
    "tags": []
   },
   "source": [
    "Use the [`plot_tree`](https://scikit-learn.org/stable/modules/generated/sklearn.tree.plot_tree.html) function to visualize the tree of your classifier."
   ]
  },
  {
   "cell_type": "code",
   "execution_count": null,
   "id": "73e37db9-f754-4c41-b5d5-8f09e22424f4",
   "metadata": {
    "editable": true,
    "slideshow": {
     "slide_type": ""
    },
    "tags": []
   },
   "outputs": [],
   "source": [
    "# add code"
   ]
  },
  {
   "cell_type": "markdown",
   "id": "09c3a749-cdad-4583-8f1d-c1548c869a9b",
   "metadata": {
    "editable": true,
    "slideshow": {
     "slide_type": ""
    },
    "tags": []
   },
   "source": [
    "**Question:** Can you match points from the decision boundary above to the tree visualized here? Mention an example."
   ]
  },
  {
   "cell_type": "markdown",
   "id": "c7a68f6c-7c1c-46fc-ae10-89c06a6b2655",
   "metadata": {
    "editable": true,
    "slideshow": {
     "slide_type": ""
    },
    "tags": []
   },
   "source": [
    "_Answer_: add answer"
   ]
  },
  {
   "cell_type": "markdown",
   "id": "cc06e54d-b219-47aa-a100-72dc9d5133a9",
   "metadata": {
    "editable": true,
    "slideshow": {
     "slide_type": ""
    },
    "tags": []
   },
   "source": [
    "## Exercise 5: Analyze the learning algorithm\n",
    "\n",
    "Based on your code in Exercise 2, and using your own words, answer the following questions:\n",
    "* What's the type of the ML approach?\n",
    "* What's the model class?\n",
    "* What's the objective function? Can we change the objective function for this model class?\n",
    "* What's the optimizer?"
   ]
  },
  {
   "cell_type": "markdown",
   "id": "bab18de0-fe47-4b1c-a9dd-7e5c6808b19f",
   "metadata": {
    "editable": true,
    "slideshow": {
     "slide_type": ""
    },
    "tags": []
   },
   "source": [
    "_Answer_: add answer"
   ]
  }
 ],
 "metadata": {
  "jupytext": {
   "cell_metadata_filter": "all,-execution,-papermill,-trusted",
   "notebook_metadata_filter": "-jupytext.text_representation.jupytext_version"
  },
  "kernelspec": {
   "display_name": "cpbs7602_pandas",
   "language": "python",
   "name": "python3"
  },
  "language_info": {
   "codemirror_mode": {
    "name": "ipython",
    "version": 3
   },
   "file_extension": ".py",
   "mimetype": "text/x-python",
   "name": "python",
   "nbconvert_exporter": "python",
   "pygments_lexer": "ipython3",
   "version": "3.13.0"
  }
 },
 "nbformat": 4,
 "nbformat_minor": 5
}
